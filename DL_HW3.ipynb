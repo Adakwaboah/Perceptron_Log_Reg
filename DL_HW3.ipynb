{
 "cells": [
  {
   "cell_type": "markdown",
   "metadata": {},
   "source": [
    "# Deep Learning HW3: Perceptrons and Logistic Regression\n",
    "**Written by Akwasi D. Akwaboah** <br>\n",
    "**First Date:** 03/30/2021 <br>\n",
    "**Description:** Implementation of C-class classification using C perceptrons and C  logistic regression models"
   ]
  },
  {
   "cell_type": "code",
   "execution_count": 23,
   "metadata": {},
   "outputs": [],
   "source": [
    "#Data load: http://rasbt.github.io/mlxtend/user_guide/data/loadlocal_mnist/\n",
    "from mlxtend.data import loadlocal_mnist\n",
    "import platform\n",
    "\n",
    "if not platform.system() == 'Windows':\n",
    "    X_tr, y_tr = loadlocal_mnist(\n",
    "            images_path='Data_extract/train-images-idx3-ubyte', \n",
    "            labels_path='Data_extract/train-labels-idx1-ubyte')\n",
    "    X_te, y_te = loadlocal_mnist(\n",
    "            images_path='Data_extract/t10k-images-idx3-ubyte', \n",
    "            labels_path='Data_extract/t10k-labels-idx1-ubyte')\n",
    "\n",
    "else:\n",
    "    X_tr, y_tr = loadlocal_mnist(\n",
    "            images_path='Data_extract/train-images.idx3-ubyte', \n",
    "            labels_path='Data_extract/train-labels.idx1-ubyte')\n",
    "    X_te, y_te = loadlocal_mnist(\n",
    "            images_path='Data_extract/t10k-images.idx3-ubyte', \n",
    "            labels_path='Data_extract/t10k-labels.idx1-ubyte')\n",
    "    "
   ]
  },
  {
   "cell_type": "code",
   "execution_count": 190,
   "metadata": {},
   "outputs": [
    {
     "data": {
      "image/png": "[encoded data removed]",
      "text/plain": [
       "<Figure size 720x720 with 5 Axes>"
      ]
     },
     "metadata": {
      "needs_background": "light"
     },
     "output_type": "display_data"
    }
   ],
   "source": [
    "import matplotlib.pyplot as plt\n",
    "plt.figure(figsize=(10,10))\n",
    "for i in range(5):\n",
    "    img = (np.reshape(X_te[i,:], (28, 28)))\n",
    "    plt.subplot(151+i)\n",
    "    plt.imshow(img, cmap = plt.cm.gray)\n",
    "plt.tight_layout()\n",
    "plt.savefig('MNIST.png')\n",
    "    "
   ]
  },
  {
   "cell_type": "code",
   "execution_count": 24,
   "metadata": {},
   "outputs": [
    {
     "name": "stdout",
     "output_type": "stream",
     "text": [
      "Train Data: Dimensions: (60000, 784)\n",
      "Test Data: Dimensions: (10000, 784)\n"
     ]
    }
   ],
   "source": [
    "print('Train Data: Dimensions: {}'.format(X_tr.shape))\n",
    "print('Test Data: Dimensions: {}'.format(X_te.shape))"
   ]
  },
  {
   "cell_type": "markdown",
   "metadata": {},
   "source": [
    "## 1. Perceptrons"
   ]
  },
  {
   "cell_type": "code",
   "execution_count": 147,
   "metadata": {},
   "outputs": [],
   "source": [
    "import numpy as np\n",
    "TRAIN_SIZE = 20000\n",
    "TEST_SIZE = 2000\n",
    "X_train = np.zeros((TRAIN_SIZE, X_tr.shape[1]+1))\n",
    "X_train[:,0] = 1\n",
    "# print(np.unique(X_train[0,:]))\n",
    "X_train[:, 1:] = X_tr[:TRAIN_SIZE,:]\n",
    "# print(np.unique(X_train[0,:]))\n",
    "y_train = y_tr[:TRAIN_SIZE]\n",
    "\n",
    "X_test = np.zeros((TEST_SIZE, X_te.shape[1]+1))\n",
    "X_test[:,0] = 1\n",
    "X_test[:, 1:] = X_te[:TEST_SIZE,:]\n",
    "y_test = y_te[:TEST_SIZE]\n",
    "\n",
    "#First binarize the labels (1-hot encoding)\n",
    "Train_Labels = np.zeros((TRAIN_SIZE, 10)) #Each column is class label for a perceptron classifier\n",
    "for i in range(10):\n",
    "    Train_Labels[:, i] = np.where(y_train == i, 1, 0)"
   ]
  },
  {
   "cell_type": "code",
   "execution_count": 141,
   "metadata": {},
   "outputs": [],
   "source": [
    "def sign(z):\n",
    "    y = np.where(z > 0, 1, 0)\n",
    "    return y\n",
    "    \n",
    "#Training the Perceptron\n",
    "def train_perceptron(train_data, truths, alpha, epochs, batch_size): #alpha = learning rate\n",
    "    theta = np.zeros(train_data.shape[1]) #initialize weights at zero\n",
    "    print('------------Training Begun!------------')\n",
    "    for epoch in range(epochs):\n",
    "        for i in range(np.uint(TRAIN_SIZE/batch_size)):\n",
    "            z_i = np.matmul(X_train[i*batch_size: (i+1)*batch_size, :], theta)\n",
    "            y_hat = sign(z_i)\n",
    "#             print(y_hat)\n",
    "            \n",
    "            #update weight\n",
    "            theta = theta + alpha*sum(((truths[i*batch_size: (i+1)*batch_size] - y_hat)*X_train[i*batch_size: (i+1)*batch_size, :].T).T)\n",
    "#         print('******Epoch {} done ********'.format(epoch))\n",
    "    print('-------------Training Done!------------')\n",
    "    return theta\n",
    "#predict\n",
    "def predict_perceptron(test, weights):\n",
    "    score = np.matmul(test, weights)\n",
    "    y_pred = sign(score)\n",
    "    return y_pred, score\n",
    "\n",
    "# recognition rate\n",
    "def clf_score(y_predt, y_test):\n",
    "    Apt_Class_idx = []\n",
    "    Apt_Class_label = []\n",
    "    for i in np.arange(len(y_predt)):\n",
    "        if (y_predt[i] == y_test[i]).all():\n",
    "            Apt_Class_idx.append(i)\n",
    "            Apt_Class_label.append(y_predt[i])\n",
    "    Cls_acc = (len(Apt_Class_idx)/len(y_test))\n",
    "    print('Classification Accuracy :', Cls_acc)\n",
    "    return Cls_acc, Apt_Class_idx, Apt_Class_label"
   ]
  },
  {
   "cell_type": "code",
   "execution_count": 116,
   "metadata": {},
   "outputs": [
    {
     "name": "stdout",
     "output_type": "stream",
     "text": [
      "------------Training Begun!------------\n",
      "-------------Training Done!------------\n",
      "(785,)\n"
     ]
    }
   ],
   "source": [
    "weights = train_perceptron(X_train, Train_Labels[:,7], 0.001, 2, 1)\n",
    "print(weights.shape)"
   ]
  },
  {
   "cell_type": "code",
   "execution_count": 117,
   "metadata": {},
   "outputs": [
    {
     "name": "stdout",
     "output_type": "stream",
     "text": [
      "y_pred:  1\n",
      "score:  8089.437999999998\n",
      "Truth:  7\n"
     ]
    }
   ],
   "source": [
    "y_pred, score = predict_perceptron(X_test[0,:], weights)\n",
    "print('y_pred: ', y_pred)\n",
    "print('score: ', score)\n",
    "print('Truth: ', y_test[0])"
   ]
  },
  {
   "cell_type": "code",
   "execution_count": 120,
   "metadata": {},
   "outputs": [
    {
     "name": "stdout",
     "output_type": "stream",
     "text": [
      "Perceptron 0: \n",
      "------------Training Begun!------------\n",
      "-------------Training Done!------------\n",
      "Perceptron 1: \n",
      "------------Training Begun!------------\n",
      "-------------Training Done!------------\n",
      "Perceptron 2: \n",
      "------------Training Begun!------------\n",
      "-------------Training Done!------------\n",
      "Perceptron 3: \n",
      "------------Training Begun!------------\n",
      "-------------Training Done!------------\n",
      "Perceptron 4: \n",
      "------------Training Begun!------------\n",
      "-------------Training Done!------------\n",
      "Perceptron 5: \n",
      "------------Training Begun!------------\n",
      "-------------Training Done!------------\n",
      "Perceptron 6: \n",
      "------------Training Begun!------------\n",
      "-------------Training Done!------------\n",
      "Perceptron 7: \n",
      "------------Training Begun!------------\n",
      "-------------Training Done!------------\n",
      "Perceptron 8: \n",
      "------------Training Begun!------------\n",
      "-------------Training Done!------------\n",
      "Perceptron 9: \n",
      "------------Training Begun!------------\n",
      "-------------Training Done!------------\n"
     ]
    }
   ],
   "source": [
    "#Train 10 perceptrons\n",
    "n_classes = 10\n",
    "weights_arr = np.zeros((n_classes, X_train.shape[1]))\n",
    "for c in range(n_classes):\n",
    "    print('Perceptron {}: '.format(c))\n",
    "    weights_arr[c, :] = train_perceptron(X_train, Train_Labels[:,c], 0.001, 10, 1)"
   ]
  },
  {
   "cell_type": "code",
   "execution_count": 121,
   "metadata": {},
   "outputs": [
    {
     "name": "stdout",
     "output_type": "stream",
     "text": [
      "y_pred: \n",
      " [[0. 0. 0. 0. 0. 0. 0. 1. 0. 0.]\n",
      " [0. 0. 1. 0. 0. 0. 0. 0. 0. 0.]\n",
      " [0. 1. 0. 0. 0. 0. 0. 0. 0. 0.]\n",
      " [1. 0. 0. 0. 0. 0. 0. 0. 0. 0.]\n",
      " [0. 0. 0. 0. 1. 0. 0. 0. 0. 0.]\n",
      " [0. 1. 0. 0. 0. 0. 0. 0. 0. 0.]\n",
      " [0. 0. 0. 0. 1. 1. 0. 0. 1. 0.]\n",
      " [0. 0. 0. 0. 0. 1. 0. 0. 0. 1.]\n",
      " [0. 0. 0. 0. 0. 0. 0. 0. 0. 0.]\n",
      " [0. 0. 0. 0. 0. 0. 0. 0. 0. 0.]]\n",
      "Truth: \n",
      " [7 2 1 0 4 1 4 9 5 9]\n"
     ]
    }
   ],
   "source": [
    "y_pred_arr = np.zeros((TEST_SIZE, n_classes))\n",
    "score_arr = np.zeros((TEST_SIZE, n_classes))\n",
    "\n",
    "for test_idx in range(TEST_SIZE):\n",
    "    for i in range(n_classes):\n",
    "        y_pred_arr[test_idx, i], score_arr[test_idx, i] = predict_perceptron(X_test[test_idx,:], weights_arr[i,:])\n",
    "\n",
    "# print('y_pred: \\n', y_pred_arr[0:10])\n",
    "# # print('score: \\n', score_arr[0:10])\n",
    "# print('Truth: \\n', y_test[0:10])"
   ]
  },
  {
   "cell_type": "code",
   "execution_count": 131,
   "metadata": {},
   "outputs": [
    {
     "name": "stdout",
     "output_type": "stream",
     "text": [
      "[[0. 0. 0. 0. 0. 0. 0. 1. 0. 0.]\n",
      " [0. 0. 1. 0. 0. 0. 0. 0. 0. 0.]\n",
      " [0. 1. 0. 0. 0. 0. 0. 0. 0. 0.]\n",
      " [1. 0. 0. 0. 0. 0. 0. 0. 0. 0.]\n",
      " [0. 0. 0. 0. 1. 0. 0. 0. 0. 0.]\n",
      " [0. 1. 0. 0. 0. 0. 0. 0. 0. 0.]\n",
      " [0. 0. 0. 0. 1. 0. 0. 0. 0. 0.]\n",
      " [0. 0. 0. 0. 0. 0. 0. 0. 0. 1.]\n",
      " [0. 0. 0. 0. 0. 1. 0. 0. 0. 0.]\n",
      " [0. 0. 0. 0. 0. 0. 0. 0. 0. 1.]]\n",
      "()\n"
     ]
    }
   ],
   "source": [
    "#1-hot encoding for test labels\n",
    "Test_Labels = np.zeros((TEST_SIZE, 10)) #Each column is class label for a perceptron classifier\n",
    "for i in range(10):\n",
    "    Test_Labels[:, i] = np.where(y_test == i, 1, 0)\n",
    "print(Test_Labels[0:10])\n",
    "print(y_pred.shape)"
   ]
  },
  {
   "cell_type": "code",
   "execution_count": 143,
   "metadata": {},
   "outputs": [
    {
     "name": "stdout",
     "output_type": "stream",
     "text": [
      "Classification Accuracy : 0.987\n",
      "Classification Accuracy : 0.9925\n",
      "Classification Accuracy : 0.949\n",
      "Classification Accuracy : 0.9635\n",
      "Classification Accuracy : 0.9745\n",
      "Classification Accuracy : 0.9495\n",
      "Classification Accuracy : 0.972\n",
      "Classification Accuracy : 0.9685\n",
      "Classification Accuracy : 0.9055\n",
      "Classification Accuracy : 0.946\n",
      "[0.987  0.9925 0.949  0.9635 0.9745 0.9495 0.972  0.9685 0.9055 0.946 ]\n",
      "Classification Accuracy : 0.683\n",
      "0.683\n",
      "0.6683252862676128\n"
     ]
    }
   ],
   "source": [
    "Accs = np.zeros(n_classes)\n",
    "for i in range(n_classes):\n",
    "    Accs[i], Apt_idx, Apt_label = clf_score(y_pred_arr[:, i], Test_Labels[:, i])\n",
    "    \n",
    "print(Accs)\n",
    "\n",
    "Ov_Accs, Ov_Apt_idx, Ov_Apt_label = clf_score(y_pred_arr, Test_Labels)\n",
    "print(Ov_Accs)\n",
    "print(np.prod(Accs))"
   ]
  },
  {
   "cell_type": "markdown",
   "metadata": {},
   "source": [
    "## 2. Logistic Regression"
   ]
  },
  {
   "cell_type": "code",
   "execution_count": 174,
   "metadata": {},
   "outputs": [
    {
     "data": {
      "text/plain": [
       "LogisticRegression()"
      ]
     },
     "execution_count": 174,
     "metadata": {},
     "output_type": "execute_result"
    }
   ],
   "source": [
    "import warnings\n",
    "warnings.simplefilter('ignore')\n",
    "from sklearn.linear_model import LogisticRegression\n",
    "\n",
    "log_reg0 = LogisticRegression()\n",
    "log_reg0.fit(X_train, Train_Labels[:, 0])\n",
    "log_reg1 = LogisticRegression()\n",
    "log_reg1.fit(X_train, Train_Labels[:, 1])\n",
    "log_reg2 = LogisticRegression()\n",
    "log_reg2.fit(X_train, Train_Labels[:, 2])\n",
    "log_reg3 = LogisticRegression()\n",
    "log_reg3.fit(X_train, Train_Labels[:, 3])\n",
    "log_reg4 = LogisticRegression()\n",
    "log_reg4.fit(X_train, Train_Labels[:, 4])\n",
    "log_reg5 = LogisticRegression()\n",
    "log_reg5.fit(X_train, Train_Labels[:, 5])\n",
    "log_reg6 = LogisticRegression()\n",
    "log_reg6.fit(X_train, Train_Labels[:, 6])\n",
    "log_reg7 = LogisticRegression()\n",
    "log_reg7.fit(X_train, Train_Labels[:, 7])\n",
    "log_reg8 = LogisticRegression()\n",
    "log_reg8.fit(X_train, Train_Labels[:, 8])\n",
    "log_reg9 = LogisticRegression()\n",
    "log_reg9.fit(X_train, Train_Labels[:, 9])"
   ]
  },
  {
   "cell_type": "code",
   "execution_count": 178,
   "metadata": {},
   "outputs": [
    {
     "name": "stdout",
     "output_type": "stream",
     "text": [
      "[[0. 0. 0. ... 1. 0. 0.]\n",
      " [0. 0. 1. ... 0. 0. 0.]\n",
      " [0. 1. 0. ... 0. 0. 0.]\n",
      " ...\n",
      " [0. 0. 0. ... 0. 0. 0.]\n",
      " [0. 0. 0. ... 0. 0. 1.]\n",
      " [0. 0. 0. ... 0. 0. 0.]]\n"
     ]
    }
   ],
   "source": [
    "y_pred_arr = np.zeros((TEST_SIZE, n_classes))\n",
    "y_pred_arr[:,0] = log_reg0.predict(X_test)\n",
    "y_pred_arr[:,1] = log_reg1.predict(X_test)\n",
    "y_pred_arr[:,2] = log_reg2.predict(X_test)\n",
    "y_pred_arr[:,3] = log_reg3.predict(X_test)\n",
    "y_pred_arr[:,4] = log_reg4.predict(X_test)\n",
    "y_pred_arr[:,5] = log_reg5.predict(X_test)\n",
    "y_pred_arr[:,6] = log_reg6.predict(X_test)\n",
    "y_pred_arr[:,7] = log_reg7.predict(X_test)\n",
    "y_pred_arr[:,8] = log_reg8.predict(X_test)\n",
    "y_pred_arr[:,9] = log_reg9.predict(X_test)\n",
    "\n",
    "print(y_pred_arr)\n"
   ]
  },
  {
   "cell_type": "code",
   "execution_count": 179,
   "metadata": {},
   "outputs": [
    {
     "name": "stdout",
     "output_type": "stream",
     "text": [
      "Classification Accuracy : 0.9865\n",
      "Classification Accuracy : 0.991\n",
      "Classification Accuracy : 0.9725\n",
      "Classification Accuracy : 0.963\n",
      "Classification Accuracy : 0.9785\n",
      "Classification Accuracy : 0.97\n",
      "Classification Accuracy : 0.974\n",
      "Classification Accuracy : 0.9655\n",
      "Classification Accuracy : 0.93\n",
      "Classification Accuracy : 0.9505\n",
      "[0.9865 0.991  0.9725 0.963  0.9785 0.97   0.974  0.9655 0.93   0.9505]\n",
      "Classification Accuracy : 0.744\n",
      "0.744\n",
      "0.7223796618813627\n"
     ]
    }
   ],
   "source": [
    "Accs = np.zeros(n_classes)\n",
    "for i in range(n_classes):\n",
    "    Accs[i], Apt_idx, Apt_label = clf_score(y_pred_arr[:, i], Test_Labels[:, i])\n",
    "    \n",
    "print(Accs)\n",
    "\n",
    "Ov_Accs, Ov_Apt_idx, Ov_Apt_label = clf_score(y_pred_arr, Test_Labels)\n",
    "print(Ov_Accs)\n",
    "print(np.prod(Accs))"
   ]
  }
 ],
 "metadata": {
  "kernelspec": {
   "display_name": "Python 3",
   "language": "python",
   "name": "python3"
  },
  "language_info": {
   "codemirror_mode": {
    "name": "ipython",
    "version": 3
   },
   "file_extension": ".py",
   "mimetype": "text/x-python",
   "name": "python",
   "nbconvert_exporter": "python",
   "pygments_lexer": "ipython3",
   "version": "3.8.5"
  }
 },
 "nbformat": 4,
 "nbformat_minor": 4
}
